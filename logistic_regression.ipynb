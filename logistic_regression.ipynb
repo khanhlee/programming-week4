{
 "cells": [
  {
   "cell_type": "code",
   "execution_count": 1,
   "metadata": {},
   "outputs": [],
   "source": [
    "# To support both python 2 and python 3\n",
    "from __future__ import division, print_function, unicode_literals\n",
    "import numpy as np \n",
    "import matplotlib.pyplot as plt\n",
    "np.random.seed(2)\n",
    "\n",
    "X = np.array([[0.50, 0.75, 1.00, 1.25, 1.50, 1.75, 1.75, 2.00, 2.25, 2.50, \n",
    "              2.75, 3.00, 3.25, 3.50, 4.00, 4.25, 4.50, 4.75, 5.00, 5.50]])\n",
    "y = np.array([0, 0, 0, 0, 0, 0, 1, 0, 1, 0, 1, 0, 1, 0, 1, 1, 1, 1, 1, 1])\n",
    "\n",
    "# extended data \n",
    "X = np.concatenate((np.ones((1, X.shape[1])), X), axis = 0)"
   ]
  },
  {
   "cell_type": "code",
   "execution_count": 2,
   "metadata": {},
   "outputs": [
    {
     "name": "stdout",
     "output_type": "stream",
     "text": [
      "[[-4.092695  ]\n",
      " [ 1.55277242]]\n"
     ]
    }
   ],
   "source": [
    "def sigmoid(s):\n",
    "    return 1/(1 + np.exp(-s))\n",
    "\n",
    "def logistic_sigmoid_regression(X, y, w_init, eta, tol = 1e-4, max_count = 10000):\n",
    "    w = [w_init]    \n",
    "    it = 0\n",
    "    N = X.shape[1]\n",
    "    d = X.shape[0]\n",
    "    count = 0\n",
    "    check_w_after = 20\n",
    "    while count < max_count:\n",
    "        # mix data \n",
    "        mix_id = np.random.permutation(N)\n",
    "        for i in mix_id:\n",
    "            xi = X[:, i].reshape(d, 1)\n",
    "            yi = y[i]\n",
    "            zi = sigmoid(np.dot(w[-1].T, xi))\n",
    "            w_new = w[-1] + eta*(yi - zi)*xi\n",
    "            count += 1\n",
    "            # stopping criteria\n",
    "            if count%check_w_after == 0:                \n",
    "                if np.linalg.norm(w_new - w[-check_w_after]) < tol:\n",
    "                    return w\n",
    "            w.append(w_new)\n",
    "    return w\n",
    "eta = .05 \n",
    "d = X.shape[0]\n",
    "w_init = np.random.randn(d, 1)\n",
    "\n",
    "w = logistic_sigmoid_regression(X, y, w_init, eta)\n",
    "print(w[-1])"
   ]
  },
  {
   "cell_type": "raw",
   "metadata": {},
   "source": [
    "Với kết quả tìm được, đầu ra y có thể được dự đoán theo công thức: y = sigmoid(-4.1 + 1.55*x). Với dữ liệu trong tập training, kết quả là:"
   ]
  },
  {
   "cell_type": "code",
   "execution_count": 3,
   "metadata": {},
   "outputs": [
    {
     "name": "stdout",
     "output_type": "stream",
     "text": [
      "[[0.03501592 0.05078108 0.07310642 0.10416972 0.14634799 0.20175793\n",
      "  0.20175793 0.27147534 0.35458234 0.4475032  0.54424128 0.63775242\n",
      "  0.72188183 0.79282004 0.89267823 0.92460236 0.94758783 0.96384008\n",
      "  0.97518471 0.9884283 ]]\n"
     ]
    }
   ],
   "source": [
    "print(sigmoid(np.dot(w[-1].T, X)))"
   ]
  },
  {
   "cell_type": "raw",
   "metadata": {},
   "source": [
    "Biểu diễn kết quả này trên đồ thị ta có:"
   ]
  },
  {
   "cell_type": "code",
   "execution_count": 4,
   "metadata": {},
   "outputs": [
    {
     "data": {
      "image/png": "[encoded data removed]",
      "text/plain": [
       "<Figure size 432x288 with 1 Axes>"
      ]
     },
     "metadata": {
      "needs_background": "light"
     },
     "output_type": "display_data"
    }
   ],
   "source": [
    "X0 = X[1, np.where(y == 0)][0]\n",
    "y0 = y[np.where(y == 0)]\n",
    "X1 = X[1, np.where(y == 1)][0]\n",
    "y1 = y[np.where(y == 1)]\n",
    "\n",
    "plt.plot(X0, y0, 'ro', markersize = 8)\n",
    "plt.plot(X1, y1, 'bs', markersize = 8)\n",
    "\n",
    "xx = np.linspace(0, 6, 1000)\n",
    "w0 = w[-1][0][0]\n",
    "w1 = w[-1][1][0]\n",
    "threshold = -w0/w1\n",
    "yy = sigmoid(w0 + w1*xx)\n",
    "plt.axis([-2, 8, -1, 2])\n",
    "plt.plot(xx, yy, 'g-', linewidth = 2)\n",
    "plt.plot(threshold, .5, 'y^', markersize = 8)\n",
    "plt.xlabel('studying hours')\n",
    "plt.ylabel('predicted probability of pass')\n",
    "plt.show()"
   ]
  },
  {
   "cell_type": "code",
   "execution_count": 21,
   "metadata": {},
   "outputs": [],
   "source": [
    "import numpy as np\n",
    "import matplotlib.pyplot as plt\n",
    "import pandas as pd"
   ]
  },
  {
   "cell_type": "code",
   "execution_count": 25,
   "metadata": {},
   "outputs": [],
   "source": [
    "dataset = pd.read_csv('pima-optimized.csv')\n",
    "X = dataset.iloc[:, [4, 5]].values\n",
    "y = dataset.iloc[:, -1].values"
   ]
  },
  {
   "cell_type": "code",
   "execution_count": 27,
   "metadata": {},
   "outputs": [
    {
     "data": {
      "text/plain": [
       "array([[  0. ,  33.6],\n",
       "       [  0. ,  26.6],\n",
       "       [  0. ,  23.3],\n",
       "       [ 94. ,  28.1],\n",
       "       [168. ,  43.1],\n",
       "       [  0. ,  25.6],\n",
       "       [ 88. ,  31. ],\n",
       "       [  0. ,  35.3],\n",
       "       [543. ,  30.5],\n",
       "       [  0. ,   0. ],\n",
       "       [  0. ,  37.6],\n",
       "       [  0. ,  38. ],\n",
       "       [  0. ,  27.1],\n",
       "       [846. ,  30.1],\n",
       "       [175. ,  25.8],\n",
       "       [  0. ,  30. ],\n",
       "       [230. ,  45.8],\n",
       "       [  0. ,  29.6],\n",
       "       [ 83. ,  43.3],\n",
       "       [ 96. ,  34.6],\n",
       "       [235. ,  39.3],\n",
       "       [  0. ,  35.4],\n",
       "       [  0. ,  39.8],\n",
       "       [  0. ,  29. ],\n",
       "       [146. ,  36.6],\n",
       "       [115. ,  31.1],\n",
       "       [  0. ,  39.4],\n",
       "       [140. ,  23.2],\n",
       "       [110. ,  22.2],\n",
       "       [  0. ,  34.1],\n",
       "       [  0. ,  36. ],\n",
       "       [245. ,  31.6],\n",
       "       [ 54. ,  24.8],\n",
       "       [  0. ,  19.9],\n",
       "       [  0. ,  27.6],\n",
       "       [192. ,  24. ],\n",
       "       [  0. ,  33.2],\n",
       "       [  0. ,  32.9],\n",
       "       [  0. ,  38.2],\n",
       "       [207. ,  37.1],\n",
       "       [ 70. ,  34. ],\n",
       "       [  0. ,  40.2],\n",
       "       [  0. ,  22.7],\n",
       "       [240. ,  45.4],\n",
       "       [  0. ,  27.4],\n",
       "       [  0. ,  42. ],\n",
       "       [  0. ,  29.7],\n",
       "       [  0. ,  28. ],\n",
       "       [  0. ,  39.1],\n",
       "       [  0. ,   0. ],\n",
       "       [ 82. ,  19.4],\n",
       "       [ 36. ,  24.2],\n",
       "       [ 23. ,  24.4],\n",
       "       [300. ,  33.7],\n",
       "       [342. ,  34.7],\n",
       "       [  0. ,  23. ],\n",
       "       [304. ,  37.7],\n",
       "       [110. ,  46.8],\n",
       "       [  0. ,  40.5],\n",
       "       [142. ,  41.5],\n",
       "       [  0. ,   0. ],\n",
       "       [  0. ,  32.9],\n",
       "       [  0. ,  25. ],\n",
       "       [128. ,  25.4],\n",
       "       [  0. ,  32.8],\n",
       "       [  0. ,  29. ],\n",
       "       [  0. ,  32.5],\n",
       "       [  0. ,  42.7],\n",
       "       [ 38. ,  19.6],\n",
       "       [100. ,  28.9],\n",
       "       [ 90. ,  32.9],\n",
       "       [140. ,  28.6],\n",
       "       [  0. ,  43.4],\n",
       "       [270. ,  35.1],\n",
       "       [  0. ,  32. ],\n",
       "       [  0. ,  24.7],\n",
       "       [  0. ,  32.6],\n",
       "       [  0. ,  37.7],\n",
       "       [  0. ,  43.2],\n",
       "       [  0. ,  25. ],\n",
       "       [  0. ,  22.4],\n",
       "       [  0. ,   0. ],\n",
       "       [ 71. ,  29.3],\n",
       "       [  0. ,  24.6],\n",
       "       [  0. ,  48.8],\n",
       "       [125. ,  32.4],\n",
       "       [  0. ,  36.6],\n",
       "       [ 71. ,  38.5],\n",
       "       [110. ,  37.1],\n",
       "       [  0. ,  26.5],\n",
       "       [  0. ,  19.1],\n",
       "       [176. ,  32. ],\n",
       "       [ 48. ,  46.7],\n",
       "       [  0. ,  23.8],\n",
       "       [ 64. ,  24.7],\n",
       "       [228. ,  33.9],\n",
       "       [  0. ,  31.6],\n",
       "       [ 76. ,  20.4],\n",
       "       [ 64. ,  28.7],\n",
       "       [220. ,  49.7],\n",
       "       [  0. ,  39. ],\n",
       "       [  0. ,  26.1],\n",
       "       [  0. ,  22.5],\n",
       "       [ 40. ,  26.6],\n",
       "       [  0. ,  39.6],\n",
       "       [152. ,  28.7],\n",
       "       [  0. ,  22.4],\n",
       "       [140. ,  29.5],\n",
       "       [ 18. ,  34.3],\n",
       "       [ 36. ,  37.4],\n",
       "       [135. ,  33.3],\n",
       "       [495. ,  34. ],\n",
       "       [ 37. ,  31.2],\n",
       "       [  0. ,  34. ],\n",
       "       [175. ,  30.5],\n",
       "       [  0. ,  31.2],\n",
       "       [  0. ,  34. ],\n",
       "       [  0. ,  33.7],\n",
       "       [  0. ,  28.2],\n",
       "       [ 51. ,  23.2],\n",
       "       [100. ,  53.2],\n",
       "       [  0. ,  34.2],\n",
       "       [100. ,  33.6],\n",
       "       [  0. ,  26.8],\n",
       "       [  0. ,  33.3],\n",
       "       [ 99. ,  55. ],\n",
       "       [135. ,  42.9],\n",
       "       [ 94. ,  33.3],\n",
       "       [145. ,  34.5],\n",
       "       [  0. ,  27.9],\n",
       "       [168. ,  29.7],\n",
       "       [  0. ,  33.3],\n",
       "       [225. ,  34.5],\n",
       "       [  0. ,  38.3],\n",
       "       [ 49. ,  21.1],\n",
       "       [140. ,  33.8],\n",
       "       [ 50. ,  30.8],\n",
       "       [ 92. ,  28.7],\n",
       "       [  0. ,  31.2],\n",
       "       [325. ,  36.9],\n",
       "       [  0. ,  21.1],\n",
       "       [  0. ,  39.5],\n",
       "       [ 63. ,  32.5],\n",
       "       [  0. ,  32.4],\n",
       "       [284. ,  32.8],\n",
       "       [  0. ,   0. ],\n",
       "       [  0. ,  32.8],\n",
       "       [119. ,  30.5],\n",
       "       [  0. ,  33.7],\n",
       "       [  0. ,  27.3],\n",
       "       [204. ,  37.4],\n",
       "       [  0. ,  21.9],\n",
       "       [155. ,  34.3],\n",
       "       [485. ,  40.6],\n",
       "       [  0. ,  47.9],\n",
       "       [  0. ,  50. ],\n",
       "       [ 94. ,  24.6],\n",
       "       [135. ,  25.2],\n",
       "       [ 53. ,  29. ],\n",
       "       [114. ,  40.9],\n",
       "       [  0. ,  29.7],\n",
       "       [105. ,  37.2],\n",
       "       [285. ,  44.2],\n",
       "       [  0. ,  29.7],\n",
       "       [  0. ,  31.6],\n",
       "       [156. ,  29.9],\n",
       "       [  0. ,  32.5],\n",
       "       [  0. ,  29.6],\n",
       "       [  0. ,  31.9],\n",
       "       [ 78. ,  28.4],\n",
       "       [  0. ,  30.8],\n",
       "       [130. ,  35.4],\n",
       "       [  0. ,  28.9],\n",
       "       [ 48. ,  43.5],\n",
       "       [ 55. ,  29.7],\n",
       "       [130. ,  32.7],\n",
       "       [  0. ,  31.2],\n",
       "       [130. ,  67.1],\n",
       "       [  0. ,  45. ],\n",
       "       [  0. ,  39.1],\n",
       "       [  0. ,  23.2],\n",
       "       [ 92. ,  34.9],\n",
       "       [ 23. ,  27.7],\n",
       "       [  0. ,  26.8],\n",
       "       [  0. ,  27.6],\n",
       "       [  0. ,  35.9],\n",
       "       [495. ,  30.1],\n",
       "       [ 58. ,  32. ],\n",
       "       [114. ,  27.9],\n",
       "       [160. ,  31.6],\n",
       "       [  0. ,  22.6],\n",
       "       [ 94. ,  33.1],\n",
       "       [  0. ,  30.4],\n",
       "       [  0. ,  52.3],\n",
       "       [  0. ,  24.4],\n",
       "       [210. ,  39.4],\n",
       "       [  0. ,  24.3],\n",
       "       [ 48. ,  22.9],\n",
       "       [ 99. ,  34.8],\n",
       "       [318. ,  30.9],\n",
       "       [  0. ,  31. ],\n",
       "       [  0. ,  40.1],\n",
       "       [  0. ,  27.3],\n",
       "       [ 44. ,  20.4],\n",
       "       [190. ,  37.7],\n",
       "       [  0. ,  23.9],\n",
       "       [280. ,  37.5],\n",
       "       [  0. ,  37.7],\n",
       "       [ 87. ,  33.2],\n",
       "       [  0. ,  35.5],\n",
       "       [  0. ,  27.7],\n",
       "       [  0. ,  42.8],\n",
       "       [  0. ,  34.2],\n",
       "       [130. ,  42.6],\n",
       "       [175. ,  34.2],\n",
       "       [271. ,  41.8],\n",
       "       [129. ,  35.8],\n",
       "       [120. ,  30. ],\n",
       "       [  0. ,  29. ],\n",
       "       [  0. ,  37.8],\n",
       "       [478. ,  34.6],\n",
       "       [  0. ,  31.6],\n",
       "       [  0. ,  25.2],\n",
       "       [190. ,  28.8],\n",
       "       [ 56. ,  23.6],\n",
       "       [ 32. ,  34.6],\n",
       "       [  0. ,  35.7],\n",
       "       [  0. ,  37.2],\n",
       "       [744. ,  36.7],\n",
       "       [ 53. ,  45.2],\n",
       "       [  0. ,  44. ],\n",
       "       [370. ,  46.2],\n",
       "       [ 37. ,  25.4],\n",
       "       [  0. ,  35. ],\n",
       "       [ 45. ,  29.7],\n",
       "       [  0. ,  43.6],\n",
       "       [192. ,  35.9],\n",
       "       [  0. ,  44.1],\n",
       "       [  0. ,  30.8],\n",
       "       [  0. ,  18.4],\n",
       "       [  0. ,  29.2],\n",
       "       [ 88. ,  33.1],\n",
       "       [  0. ,  25.6],\n",
       "       [176. ,  27.1],\n",
       "       [194. ,  38.2],\n",
       "       [  0. ,  30. ],\n",
       "       [  0. ,  31.2],\n",
       "       [680. ,  52.3],\n",
       "       [402. ,  35.4],\n",
       "       [  0. ,  30.1],\n",
       "       [  0. ,  31.2],\n",
       "       [  0. ,  28. ],\n",
       "       [ 55. ,  24.4],\n",
       "       [  0. ,  35.8],\n",
       "       [258. ,  27.6],\n",
       "       [  0. ,  33.6],\n",
       "       [  0. ,  30.1],\n",
       "       [  0. ,  28.7],\n",
       "       [375. ,  25.9],\n",
       "       [150. ,  33.3],\n",
       "       [130. ,  30.9],\n",
       "       [  0. ,  30. ],\n",
       "       [  0. ,  32.1],\n",
       "       [  0. ,  32.4],\n",
       "       [  0. ,  32. ],\n",
       "       [ 67. ,  33.6],\n",
       "       [  0. ,  36.3],\n",
       "       [  0. ,  40. ],\n",
       "       [  0. ,  25.1],\n",
       "       [  0. ,  27.5],\n",
       "       [  0. ,  45.6],\n",
       "       [ 56. ,  25.2],\n",
       "       [  0. ,  23. ],\n",
       "       [ 45. ,  33.2],\n",
       "       [  0. ,  34.2],\n",
       "       [ 57. ,  40.5],\n",
       "       [  0. ,  26.5],\n",
       "       [116. ,  27.8],\n",
       "       [  0. ,  24.9],\n",
       "       [278. ,  25.3],\n",
       "       [  0. ,  37.9],\n",
       "       [122. ,  35.9],\n",
       "       [155. ,  32.4],\n",
       "       [  0. ,  30.4],\n",
       "       [  0. ,  27. ],\n",
       "       [135. ,  26. ],\n",
       "       [545. ,  38.7],\n",
       "       [220. ,  45.6],\n",
       "       [ 49. ,  20.8],\n",
       "       [ 75. ,  36.1],\n",
       "       [ 40. ,  36.9],\n",
       "       [ 74. ,  36.6],\n",
       "       [182. ,  43.3],\n",
       "       [194. ,  40.5],\n",
       "       [  0. ,  21.9],\n",
       "       [120. ,  35.5],\n",
       "       [360. ,  28. ],\n",
       "       [215. ,  30.7],\n",
       "       [184. ,  36.6],\n",
       "       [  0. ,  23.6]])"
      ]
     },
     "execution_count": 27,
     "metadata": {},
     "output_type": "execute_result"
    }
   ],
   "source": [
    "X"
   ]
  },
  {
   "cell_type": "code",
   "execution_count": 28,
   "metadata": {},
   "outputs": [],
   "source": [
    "from sklearn.model_selection import train_test_split\n",
    "X_train, X_test, y_train, y_test = train_test_split(X, y, test_size = 0.25, random_state = 0)"
   ]
  },
  {
   "cell_type": "code",
   "execution_count": 29,
   "metadata": {},
   "outputs": [
    {
     "name": "stderr",
     "output_type": "stream",
     "text": [
      "c:\\users\\naomi\\appdata\\local\\programs\\python\\python37\\lib\\site-packages\\sklearn\\linear_model\\logistic.py:432: FutureWarning: Default solver will be changed to 'lbfgs' in 0.22. Specify a solver to silence this warning.\n",
      "  FutureWarning)\n"
     ]
    },
    {
     "data": {
      "text/plain": [
       "LogisticRegression(C=1.0, class_weight=None, dual=False, fit_intercept=True,\n",
       "                   intercept_scaling=1, l1_ratio=None, max_iter=100,\n",
       "                   multi_class='warn', n_jobs=None, penalty='l2',\n",
       "                   random_state=0, solver='warn', tol=0.0001, verbose=0,\n",
       "                   warm_start=False)"
      ]
     },
     "execution_count": 29,
     "metadata": {},
     "output_type": "execute_result"
    }
   ],
   "source": [
    "from sklearn.linear_model import LogisticRegression\n",
    "classifier = LogisticRegression(random_state = 0)\n",
    "classifier.fit(X_train, y_train)"
   ]
  },
  {
   "cell_type": "code",
   "execution_count": 30,
   "metadata": {},
   "outputs": [],
   "source": [
    "y_pred = classifier.predict(X_test)"
   ]
  },
  {
   "cell_type": "code",
   "execution_count": 33,
   "metadata": {},
   "outputs": [
    {
     "name": "stdout",
     "output_type": "stream",
     "text": [
      "0.64\n",
      "[[40 13]\n",
      " [14  8]]\n"
     ]
    }
   ],
   "source": [
    "from sklearn.metrics import confusion_matrix\n",
    "from sklearn.metrics import accuracy_score\n",
    "cm = confusion_matrix(y_test, y_pred)\n",
    "print(accuracy_score(y_test, y_pred))\n",
    "print(cm)"
   ]
  },
  {
   "cell_type": "code",
   "execution_count": 34,
   "metadata": {},
   "outputs": [
    {
     "name": "stdout",
     "output_type": "stream",
     "text": [
      "              precision    recall  f1-score   support\n",
      "\n",
      "           0       0.74      0.75      0.75        53\n",
      "           1       0.38      0.36      0.37        22\n",
      "\n",
      "    accuracy                           0.64        75\n",
      "   macro avg       0.56      0.56      0.56        75\n",
      "weighted avg       0.64      0.64      0.64        75\n",
      "\n"
     ]
    }
   ],
   "source": [
    "from sklearn.metrics import classification_report\n",
    "print(classification_report(y_test, y_pred))"
   ]
  },
  {
   "cell_type": "code",
   "execution_count": 35,
   "metadata": {},
   "outputs": [
    {
     "ename": "MemoryError",
     "evalue": "Unable to allocate array with shape (6910, 84800) and data type float64",
     "output_type": "error",
     "traceback": [
      "\u001b[1;31m---------------------------------------------------------------------------\u001b[0m",
      "\u001b[1;31mMemoryError\u001b[0m                               Traceback (most recent call last)",
      "\u001b[1;32m<ipython-input-35-bb916b730cbd>\u001b[0m in \u001b[0;36m<module>\u001b[1;34m\u001b[0m\n\u001b[0;32m      2\u001b[0m \u001b[0mX_set\u001b[0m\u001b[1;33m,\u001b[0m \u001b[0my_set\u001b[0m \u001b[1;33m=\u001b[0m \u001b[0mX_train\u001b[0m\u001b[1;33m,\u001b[0m \u001b[0my_train\u001b[0m\u001b[1;33m\u001b[0m\u001b[1;33m\u001b[0m\u001b[0m\n\u001b[0;32m      3\u001b[0m X1, X2 = np.meshgrid(np.arange(start = X_set[:, 0].min() - 1, stop = X_set[:, 0].max() + 1, step = 0.01),\n\u001b[1;32m----> 4\u001b[1;33m                      np.arange(start = X_set[:, 1].min() - 1, stop = X_set[:, 1].max() + 1, step = 0.01))\n\u001b[0m\u001b[0;32m      5\u001b[0m plt.contourf(X1, X2, classifier.predict(np.array([X1.ravel(), X2.ravel()]).T).reshape(X1.shape),\n\u001b[0;32m      6\u001b[0m              alpha = 0.75, cmap = ListedColormap(('red', 'green')))\n",
      "\u001b[1;32m<__array_function__ internals>\u001b[0m in \u001b[0;36mmeshgrid\u001b[1;34m(*args, **kwargs)\u001b[0m\n",
      "\u001b[1;32mc:\\users\\naomi\\appdata\\local\\programs\\python\\python37\\lib\\site-packages\\numpy\\lib\\function_base.py\u001b[0m in \u001b[0;36mmeshgrid\u001b[1;34m(*xi, **kwargs)\u001b[0m\n\u001b[0;32m   4214\u001b[0m \u001b[1;33m\u001b[0m\u001b[0m\n\u001b[0;32m   4215\u001b[0m     \u001b[1;32mif\u001b[0m \u001b[0mcopy_\u001b[0m\u001b[1;33m:\u001b[0m\u001b[1;33m\u001b[0m\u001b[1;33m\u001b[0m\u001b[0m\n\u001b[1;32m-> 4216\u001b[1;33m         \u001b[0moutput\u001b[0m \u001b[1;33m=\u001b[0m \u001b[1;33m[\u001b[0m\u001b[0mx\u001b[0m\u001b[1;33m.\u001b[0m\u001b[0mcopy\u001b[0m\u001b[1;33m(\u001b[0m\u001b[1;33m)\u001b[0m \u001b[1;32mfor\u001b[0m \u001b[0mx\u001b[0m \u001b[1;32min\u001b[0m \u001b[0moutput\u001b[0m\u001b[1;33m]\u001b[0m\u001b[1;33m\u001b[0m\u001b[1;33m\u001b[0m\u001b[0m\n\u001b[0m\u001b[0;32m   4217\u001b[0m \u001b[1;33m\u001b[0m\u001b[0m\n\u001b[0;32m   4218\u001b[0m     \u001b[1;32mreturn\u001b[0m \u001b[0moutput\u001b[0m\u001b[1;33m\u001b[0m\u001b[1;33m\u001b[0m\u001b[0m\n",
      "\u001b[1;32mc:\\users\\naomi\\appdata\\local\\programs\\python\\python37\\lib\\site-packages\\numpy\\lib\\function_base.py\u001b[0m in \u001b[0;36m<listcomp>\u001b[1;34m(.0)\u001b[0m\n\u001b[0;32m   4214\u001b[0m \u001b[1;33m\u001b[0m\u001b[0m\n\u001b[0;32m   4215\u001b[0m     \u001b[1;32mif\u001b[0m \u001b[0mcopy_\u001b[0m\u001b[1;33m:\u001b[0m\u001b[1;33m\u001b[0m\u001b[1;33m\u001b[0m\u001b[0m\n\u001b[1;32m-> 4216\u001b[1;33m         \u001b[0moutput\u001b[0m \u001b[1;33m=\u001b[0m \u001b[1;33m[\u001b[0m\u001b[0mx\u001b[0m\u001b[1;33m.\u001b[0m\u001b[0mcopy\u001b[0m\u001b[1;33m(\u001b[0m\u001b[1;33m)\u001b[0m \u001b[1;32mfor\u001b[0m \u001b[0mx\u001b[0m \u001b[1;32min\u001b[0m \u001b[0moutput\u001b[0m\u001b[1;33m]\u001b[0m\u001b[1;33m\u001b[0m\u001b[1;33m\u001b[0m\u001b[0m\n\u001b[0m\u001b[0;32m   4217\u001b[0m \u001b[1;33m\u001b[0m\u001b[0m\n\u001b[0;32m   4218\u001b[0m     \u001b[1;32mreturn\u001b[0m \u001b[0moutput\u001b[0m\u001b[1;33m\u001b[0m\u001b[1;33m\u001b[0m\u001b[0m\n",
      "\u001b[1;31mMemoryError\u001b[0m: Unable to allocate array with shape (6910, 84800) and data type float64"
     ]
    }
   ],
   "source": [
    "from matplotlib.colors import ListedColormap\n",
    "X_set, y_set = X_train, y_train\n",
    "X1, X2 = np.meshgrid(np.arange(start = X_set[:, 0].min() - 1, stop = X_set[:, 0].max() + 1, step = 0.01),\n",
    "                     np.arange(start = X_set[:, 1].min() - 1, stop = X_set[:, 1].max() + 1, step = 0.01))\n",
    "plt.contourf(X1, X2, classifier.predict(np.array([X1.ravel(), X2.ravel()]).T).reshape(X1.shape),\n",
    "             alpha = 0.75, cmap = ListedColormap(('red', 'green')))\n",
    "plt.xlim(X1.min(), X1.max())\n",
    "plt.ylim(X2.min(), X2.max())\n",
    "for i, j in enumerate(np.unique(y_set)):\n",
    "    plt.scatter(X_set[y_set == j, 0], X_set[y_set == j, 1],\n",
    "                c = ListedColormap(('red', 'green'))(i), label = j)\n",
    "plt.title('Logistic Regression (Training set)')\n",
    "plt.xlabel('Age')\n",
    "plt.ylabel('Estimated Salary')\n",
    "plt.legend()\n",
    "plt.show()"
   ]
  }
 ],
 "metadata": {
  "kernelspec": {
   "display_name": "Python 3",
   "language": "python",
   "name": "python3"
  },
  "language_info": {
   "codemirror_mode": {
    "name": "ipython",
    "version": 3
   },
   "file_extension": ".py",
   "mimetype": "text/x-python",
   "name": "python",
   "nbconvert_exporter": "python",
   "pygments_lexer": "ipython3",
   "version": "3.7.4"
  }
 },
 "nbformat": 4,
 "nbformat_minor": 2
}
