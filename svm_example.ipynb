{
 "cells": [
  {
   "cell_type": "raw",
   "metadata": {},
   "source": [
    "Ta chỉ cần code một vài dòng đơn giản là có thể chạy thử được thư viện này.\n",
    "\n",
    "Ở đây ta define 2 lớp dữ liệu: X1 có nhãn positive (1), X2 có nhãn negative (-1).\n",
    "X là mảng chứa cả 2 lớp dữ liệu X1, X2 y là mảng label của X."
   ]
  },
  {
   "cell_type": "code",
   "execution_count": 2,
   "metadata": {},
   "outputs": [
    {
     "name": "stdout",
     "output_type": "stream",
     "text": [
      "[[1. 2.]\n",
      " [1. 3.]\n",
      " [3. 0.]]\n"
     ]
    }
   ],
   "source": [
    "import numpy as np\n",
    "from sklearn.svm import SVC\n",
    "\n",
    "X1 = [[1,3], [3,3], [4,0], [3,0], [2, 2]]\n",
    "y1 = [1, 1, 1, 1, 1]\n",
    "X2 = [[0,0], [1,1], [1,2], [2,0]]\n",
    "y2 = [-1, -1, -1, -1]\n",
    "X = np.array(X1 + X2)\n",
    "y = y1 + y2\n",
    "\n",
    "clf = SVC(kernel='linear', C=1E10)\n",
    "clf.fit(X, y)\n",
    "print(clf.support_vectors_)"
   ]
  },
  {
   "cell_type": "raw",
   "metadata": {},
   "source": [
    "Ở đoạn code trên ta chọn kernel là linear ám chỉ đường thẳng trong không gian chiều. Chú ý có thể chọn nhiều kernel khác phức tạp hơn, nhưng vì mục đích test, ta chọn linear để chạy cho nhanh.\n",
    "Ta set C giả trị 1E10 hiểu là một giá trị cực lớn, mục đích để tìm Hard Margin.\n",
    "\n",
    "Kết quả mảng các support vectors được in ra như sau:"
   ]
  },
  {
   "cell_type": "raw",
   "metadata": {},
   "source": [
    "Ta thêm hàm sau đây, sử dụng thư viện matplotlib để mô phỏng ra dạng đồ thị cho dễ nhìn"
   ]
  },
  {
   "cell_type": "code",
   "execution_count": 4,
   "metadata": {},
   "outputs": [
    {
     "data": {
      "image/png": "[encoded data removed]",
      "text/plain": [
       "<Figure size 432x288 with 1 Axes>"
      ]
     },
     "metadata": {
      "needs_background": "light"
     },
     "output_type": "display_data"
    }
   ],
   "source": [
    "import matplotlib.pyplot as plt\n",
    "%matplotlib inline\n",
    "\n",
    "def plot_svc_decision_function(clf, ax=None, plot_support=True):\n",
    "    \"\"\"Plot the decision function for a 2D SVC\"\"\"\n",
    "    if ax is None:\n",
    "        ax = plt.gca()\n",
    "    xlim = ax.get_xlim()\n",
    "    ylim = ax.get_ylim()\n",
    "\n",
    "    # create grid to evaluate model\n",
    "    x = np.linspace(xlim[0], xlim[1], 30)\n",
    "    y = np.linspace(ylim[0], ylim[1], 30)\n",
    "    Y, X = np.meshgrid(y, x)\n",
    "    xy = np.vstack([X.ravel(), Y.ravel()]).T\n",
    "    P = clf.decision_function(xy).reshape(X.shape)\n",
    "\n",
    "    # plot decision boundary and margins\n",
    "    ax.contour(X, Y, P, colors='k',\n",
    "               levels=[-1, 0, 1], alpha=0.5,\n",
    "               linestyles=['--', '-', '--'])\n",
    "\n",
    "    # plot support vectors\n",
    "    if plot_support:\n",
    "        ax.scatter(clf.support_vectors_[:, 0],\n",
    "                   clf.support_vectors_[:, 1],\n",
    "                   s=300, linewidth=1, facecolors='none');\n",
    "    ax.set_xlim(xlim)\n",
    "    ax.set_ylim(ylim)\n",
    "\n",
    "\n",
    "plt.scatter(X[:, 0], X[:, 1], c=y, s=50, cmap='brg');\n",
    "plot_svc_decision_function(clf)\n",
    "plt.show()"
   ]
  },
  {
   "cell_type": "raw",
   "metadata": {},
   "source": [
    "Đồ thị sẽ được in ra như hình dưới:"
   ]
  },
  {
   "cell_type": "markdown",
   "metadata": {},
   "source": [
    "## Điều chỉnh tham số C"
   ]
  },
  {
   "cell_type": "raw",
   "metadata": {},
   "source": [
    "Ta thử thay CC bằng 1 số nhỏ hơn, giả dụ C=5. Ta sẽ thu được Margin lớn hơn mà đường phân chia vẫn đúng với tât cả dữ liệu (hình bên dưới)."
   ]
  },
  {
   "cell_type": "raw",
   "metadata": {},
   "source": [
    "Trong bài toán thực tế, việc điều chỉnh số CC là rất quan trọng, giúp cho hàm phần chia của ta thêm phần linh hoạt."
   ]
  },
  {
   "cell_type": "markdown",
   "metadata": {},
   "source": [
    "## Tối ưu tham số C"
   ]
  },
  {
   "cell_type": "raw",
   "metadata": {},
   "source": [
    "Scikit learn cung cấp công cụ để tính toán tham số C tối ưu là GridSearchCV.\n",
    "Chỉ cần thêm vài dòng lệnh như dưới ta có thể tìm được số C tối ưu với tập data ví dụ:"
   ]
  },
  {
   "cell_type": "code",
   "execution_count": 6,
   "metadata": {},
   "outputs": [
    {
     "name": "stderr",
     "output_type": "stream",
     "text": [
      "c:\\users\\naomi\\appdata\\local\\programs\\python\\python37\\lib\\site-packages\\sklearn\\model_selection\\_split.py:1978: FutureWarning: The default value of cv will change from 3 to 5 in version 0.22. Specify it explicitly to silence this warning.\n",
      "  warnings.warn(CV_WARNING, FutureWarning)\n"
     ]
    },
    {
     "name": "stdout",
     "output_type": "stream",
     "text": [
      "Best score: 0.7777777777777778\n",
      "Best C: 1\n"
     ]
    },
    {
     "name": "stderr",
     "output_type": "stream",
     "text": [
      "c:\\users\\naomi\\appdata\\local\\programs\\python\\python37\\lib\\site-packages\\sklearn\\model_selection\\_search.py:814: DeprecationWarning: The default of the `iid` parameter will change from True to False in version 0.22 and will be removed in 0.24. This will change numeric results when test-set sizes are unequal.\n",
      "  DeprecationWarning)\n"
     ]
    }
   ],
   "source": [
    "from sklearn.model_selection import GridSearchCV\n",
    "\n",
    "parameter_candidates = [\n",
    "  {'C': [0.001, 0.01, 0.1, 1, 5, 10, 100, 1000], 'kernel': ['linear']},\n",
    "]\n",
    "\n",
    "clf = GridSearchCV(estimator=SVC(), param_grid=parameter_candidates, n_jobs=-1)\n",
    "clf.fit(X, y)\n",
    "print('Best score:', clf.best_score_)\n",
    "print('Best C:',clf.best_estimator_.C)"
   ]
  },
  {
   "cell_type": "raw",
   "metadata": {},
   "source": [
    "Chú ý biến parameter_candidates chứa các tham số cần tối ưu để thực hiện thử.\n",
    "Ở đây do muốn test trên không gian 2 chiều, ta fix kernel là linear và thử tham số C trong tập 7 giá trị: [0.001, 0.01, 0.1, 1, 5, 10, 100, 1000]."
   ]
  },
  {
   "cell_type": "code",
   "execution_count": null,
   "metadata": {},
   "outputs": [],
   "source": []
  }
 ],
 "metadata": {
  "kernelspec": {
   "display_name": "Python 3",
   "language": "python",
   "name": "python3"
  },
  "language_info": {
   "codemirror_mode": {
    "name": "ipython",
    "version": 3
   },
   "file_extension": ".py",
   "mimetype": "text/x-python",
   "name": "python",
   "nbconvert_exporter": "python",
   "pygments_lexer": "ipython3",
   "version": "3.7.4"
  }
 },
 "nbformat": 4,
 "nbformat_minor": 2
}
